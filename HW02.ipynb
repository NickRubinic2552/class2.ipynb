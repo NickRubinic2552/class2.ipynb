{
  "cells": [
    {
      "cell_type": "markdown",
      "metadata": {
        "id": "view-in-github",
        "colab_type": "text"
      },
      "source": [
        "<a href=\"https://colab.research.google.com/github/NickRubinic2552/class2.ipynb/blob/main/HW02.ipynb\" target=\"_parent\"><img src=\"https://colab.research.google.com/assets/colab-badge.svg\" alt=\"Open In Colab\"/></a>"
      ]
    },
    {
      "cell_type": "markdown",
      "metadata": {
        "id": "Az6-dTTPZaKS"
      },
      "source": [
        "Special thanks to: https://github.com/justmarkham for sharing the dataset and materials."
      ]
    },
    {
      "cell_type": "code",
      "execution_count": 4,
      "metadata": {
        "id": "JXY1RV6CZaKS"
      },
      "outputs": [],
      "source": [
        "import pandas as pd\n",
        "import numpy as np"
      ]
    },
    {
      "cell_type": "markdown",
      "metadata": {
        "id": "twy9DviyZaKT"
      },
      "source": [
        "### Step 3. Read the following URL and assign it to a variable called chipo.    \n",
        "NOTE: It is a TSV file, not CSV. Find out how to read TSV using read_csv in Pandas.\n",
        "\n"
      ]
    },
    {
      "cell_type": "code",
      "execution_count": 5,
      "metadata": {
        "id": "A1AAH0_aZaKU"
      },
      "outputs": [],
      "source": [
        "url = 'https://raw.githubusercontent.com/justmarkham/DAT8/master/data/chipotle.tsv'\n",
        "\n",
        "chipo = pd.read_csv(url, sep = '\\t')"
      ]
    },
    {
      "cell_type": "markdown",
      "metadata": {
        "id": "jJ13PCzbZaKU"
      },
      "source": [
        "### Show/print the first **20** entries"
      ]
    },
    {
      "cell_type": "code",
      "execution_count": 3,
      "metadata": {
        "scrolled": false,
        "id": "jIouRW4rZaKU",
        "colab": {
          "base_uri": "https://localhost:8080/"
        },
        "outputId": "84a7542e-d9eb-4ca6-c7d5-7b94bc49e6ae"
      },
      "outputs": [
        {
          "output_type": "stream",
          "name": "stdout",
          "text": [
            "    order_id  quantity                              item_name  \\\n",
            "0          1         1           Chips and Fresh Tomato Salsa   \n",
            "1          1         1                                   Izze   \n",
            "2          1         1                       Nantucket Nectar   \n",
            "3          1         1  Chips and Tomatillo-Green Chili Salsa   \n",
            "4          2         2                           Chicken Bowl   \n",
            "5          3         1                           Chicken Bowl   \n",
            "6          3         1                          Side of Chips   \n",
            "7          4         1                          Steak Burrito   \n",
            "8          4         1                       Steak Soft Tacos   \n",
            "9          5         1                          Steak Burrito   \n",
            "10         5         1                    Chips and Guacamole   \n",
            "11         6         1                   Chicken Crispy Tacos   \n",
            "12         6         1                     Chicken Soft Tacos   \n",
            "13         7         1                           Chicken Bowl   \n",
            "14         7         1                    Chips and Guacamole   \n",
            "15         8         1  Chips and Tomatillo-Green Chili Salsa   \n",
            "16         8         1                        Chicken Burrito   \n",
            "17         9         1                        Chicken Burrito   \n",
            "18         9         2                            Canned Soda   \n",
            "19        10         1                           Chicken Bowl   \n",
            "\n",
            "                                   choice_description item_price  \n",
            "0                                                 NaN     $2.39   \n",
            "1                                        [Clementine]     $3.39   \n",
            "2                                             [Apple]     $3.39   \n",
            "3                                                 NaN     $2.39   \n",
            "4   [Tomatillo-Red Chili Salsa (Hot), [Black Beans...    $16.98   \n",
            "5   [Fresh Tomato Salsa (Mild), [Rice, Cheese, Sou...    $10.98   \n",
            "6                                                 NaN     $1.69   \n",
            "7   [Tomatillo Red Chili Salsa, [Fajita Vegetables...    $11.75   \n",
            "8   [Tomatillo Green Chili Salsa, [Pinto Beans, Ch...     $9.25   \n",
            "9   [Fresh Tomato Salsa, [Rice, Black Beans, Pinto...     $9.25   \n",
            "10                                                NaN     $4.45   \n",
            "11  [Roasted Chili Corn Salsa, [Fajita Vegetables,...     $8.75   \n",
            "12  [Roasted Chili Corn Salsa, [Rice, Black Beans,...     $8.75   \n",
            "13  [Fresh Tomato Salsa, [Fajita Vegetables, Rice,...    $11.25   \n",
            "14                                                NaN     $4.45   \n",
            "15                                                NaN     $2.39   \n",
            "16  [Tomatillo-Green Chili Salsa (Medium), [Pinto ...     $8.49   \n",
            "17  [Fresh Tomato Salsa (Mild), [Black Beans, Rice...     $8.49   \n",
            "18                                           [Sprite]     $2.18   \n",
            "19  [Tomatillo Red Chili Salsa, [Fajita Vegetables...     $8.75   \n"
          ]
        }
      ],
      "source": [
        "print(chipo.head(20))"
      ]
    },
    {
      "cell_type": "markdown",
      "metadata": {
        "id": "lYqPxFM2ZaKV"
      },
      "source": [
        "### What is the number of observations in the dataset?"
      ]
    },
    {
      "cell_type": "code",
      "execution_count": 15,
      "metadata": {
        "id": "5WAbyCVnZaKV",
        "colab": {
          "base_uri": "https://localhost:8080/"
        },
        "outputId": "42283b1e-c9e3-4dcb-e20f-1b8fec3f55c4"
      },
      "outputs": [
        {
          "output_type": "stream",
          "name": "stdout",
          "text": [
            "Number of observations in the dataset: 4622\n"
          ]
        }
      ],
      "source": [
        "# Solution\n",
        "num_observations = chipo.shape[0]\n",
        "\n",
        "print(f\"Number of observations in the dataset: {num_observations}\")"
      ]
    },
    {
      "cell_type": "markdown",
      "metadata": {
        "id": "1VdaeFMUZaKV"
      },
      "source": [
        "### What is the number of columns in the dataset? Names of the columns in the dataset?"
      ]
    },
    {
      "cell_type": "code",
      "execution_count": null,
      "metadata": {
        "id": "orR19Dd1ZaKV"
      },
      "outputs": [],
      "source": [
        "Order_id, quantity, item_name, choice_description, item_price (5)"
      ]
    },
    {
      "cell_type": "markdown",
      "metadata": {
        "id": "Piuenk9EZaKW"
      },
      "source": [
        "### What was the most-ordered item? In how much quantity in total was it ordered?\n",
        "\n"
      ]
    },
    {
      "cell_type": "code",
      "execution_count": 7,
      "metadata": {
        "id": "a6RlAJySZaKX",
        "colab": {
          "base_uri": "https://localhost:8080/"
        },
        "outputId": "f24ee1c5-5175-4467-e50e-e6fb666fa697"
      },
      "outputs": [
        {
          "output_type": "stream",
          "name": "stdout",
          "text": [
            "Most ordered item: Chicken Bowl\n",
            "Total quantity ordered: 761\n"
          ]
        }
      ],
      "source": [
        "item_counts = chipo.groupby('item_name')['quantity'].sum()\n",
        "most_ordered_item = item_counts.idxmax()\n",
        "most_ordered_quantity = item_counts.max()\n",
        "print(f\"Most ordered item: {most_ordered_item}\")\n",
        "print(f\"Total quantity ordered: {most_ordered_quantity}\")"
      ]
    },
    {
      "cell_type": "code",
      "source": [
        "\n"
      ],
      "metadata": {
        "id": "3Jg4pQJD76eh"
      },
      "execution_count": 4,
      "outputs": []
    },
    {
      "cell_type": "markdown",
      "metadata": {
        "id": "ZPRQl-aqZaKX"
      },
      "source": [
        "\n",
        "### What was the most ordered item in the choice_description column? How many were ordered?"
      ]
    },
    {
      "cell_type": "code",
      "source": [
        "choice_counts = chipo.groupby('choice_description')['quantity'].sum()\n",
        "most_ordered_choice = choice_counts.idxmax()\n",
        "most_ordered_choice_quantity = choice_counts.max()\n",
        "\n",
        "(most_ordered_choice, most_ordered_choice_quantity)"
      ],
      "metadata": {
        "id": "JCuG3Lzd-GMy",
        "colab": {
          "base_uri": "https://localhost:8080/"
        },
        "outputId": "5b9ad776-b0ee-497f-e703-d9fb6882625b"
      },
      "execution_count": 6,
      "outputs": [
        {
          "output_type": "execute_result",
          "data": {
            "text/plain": [
              "('[Diet Coke]', 159)"
            ]
          },
          "metadata": {},
          "execution_count": 6
        }
      ]
    },
    {
      "cell_type": "markdown",
      "metadata": {
        "id": "sS6VF2J8ZaKX"
      },
      "source": [
        "### How many items were orderd in total?"
      ]
    },
    {
      "cell_type": "code",
      "execution_count": 7,
      "metadata": {
        "id": "vH7LCMajZaKX",
        "colab": {
          "base_uri": "https://localhost:8080/"
        },
        "outputId": "fb6b1b37-4040-4241-a5dd-1167a8650795"
      },
      "outputs": [
        {
          "output_type": "stream",
          "name": "stdout",
          "text": [
            "Total number of items ordered: 4972\n"
          ]
        }
      ],
      "source": [
        "total_items_ordered = chipo['quantity'].sum()\n",
        "print(f\"Total number of items ordered: {total_items_ordered}\")"
      ]
    },
    {
      "cell_type": "markdown",
      "source": [
        "### Provide a list of unique items offered for sale to eat at Chipotle."
      ],
      "metadata": {
        "id": "QLria4x4PK7g"
      }
    },
    {
      "cell_type": "code",
      "source": [
        "unique_items = chipo['item_name'].unique()\n",
        "print(\"Unique items offered for sale at Chipotle:\")\n",
        "for item in unique_items:\n",
        "    print(item)"
      ],
      "metadata": {
        "id": "oUyiLc4bPLpw",
        "colab": {
          "base_uri": "https://localhost:8080/"
        },
        "outputId": "9ab92bf4-e21f-4d1c-a9cc-56a550e0e4fb"
      },
      "execution_count": 8,
      "outputs": [
        {
          "output_type": "stream",
          "name": "stdout",
          "text": [
            "Unique items offered for sale at Chipotle:\n",
            "Chips and Fresh Tomato Salsa\n",
            "Izze\n",
            "Nantucket Nectar\n",
            "Chips and Tomatillo-Green Chili Salsa\n",
            "Chicken Bowl\n",
            "Side of Chips\n",
            "Steak Burrito\n",
            "Steak Soft Tacos\n",
            "Chips and Guacamole\n",
            "Chicken Crispy Tacos\n",
            "Chicken Soft Tacos\n",
            "Chicken Burrito\n",
            "Canned Soda\n",
            "Barbacoa Burrito\n",
            "Carnitas Burrito\n",
            "Carnitas Bowl\n",
            "Bottled Water\n",
            "Chips and Tomatillo Green Chili Salsa\n",
            "Barbacoa Bowl\n",
            "Chips\n",
            "Chicken Salad Bowl\n",
            "Steak Bowl\n",
            "Barbacoa Soft Tacos\n",
            "Veggie Burrito\n",
            "Veggie Bowl\n",
            "Steak Crispy Tacos\n",
            "Chips and Tomatillo Red Chili Salsa\n",
            "Barbacoa Crispy Tacos\n",
            "Veggie Salad Bowl\n",
            "Chips and Roasted Chili-Corn Salsa\n",
            "Chips and Roasted Chili Corn Salsa\n",
            "Carnitas Soft Tacos\n",
            "Chicken Salad\n",
            "Canned Soft Drink\n",
            "Steak Salad Bowl\n",
            "6 Pack Soft Drink\n",
            "Chips and Tomatillo-Red Chili Salsa\n",
            "Bowl\n",
            "Burrito\n",
            "Crispy Tacos\n",
            "Carnitas Crispy Tacos\n",
            "Steak Salad\n",
            "Chips and Mild Fresh Tomato Salsa\n",
            "Veggie Soft Tacos\n",
            "Carnitas Salad Bowl\n",
            "Barbacoa Salad Bowl\n",
            "Salad\n",
            "Veggie Crispy Tacos\n",
            "Veggie Salad\n",
            "Carnitas Salad\n"
          ]
        }
      ]
    },
    {
      "cell_type": "markdown",
      "metadata": {
        "id": "Zg3Zn70UZaKb"
      },
      "source": [
        "### How many different items are sold?"
      ]
    },
    {
      "cell_type": "code",
      "execution_count": 9,
      "metadata": {
        "id": "vrdpL059ZaKb",
        "colab": {
          "base_uri": "https://localhost:8080/"
        },
        "outputId": "111d0378-1e3c-4b6e-91a5-792b4ca9d95b"
      },
      "outputs": [
        {
          "output_type": "stream",
          "name": "stdout",
          "text": [
            "Number of different items sold: 50\n"
          ]
        }
      ],
      "source": [
        "num_unique_items = chipo['item_name'].nunique()\n",
        "print(f\"Number of different items sold: {num_unique_items}\")"
      ]
    },
    {
      "cell_type": "markdown",
      "metadata": {
        "id": "F8LZ6RUiZaKY"
      },
      "source": [
        "### How much revenue was generated for the period in the dataset?\n"
      ]
    },
    {
      "cell_type": "code",
      "execution_count": 10,
      "metadata": {
        "id": "VkNY1zxRZaKY",
        "colab": {
          "base_uri": "https://localhost:8080/"
        },
        "outputId": "e2c65abf-5e17-4ac5-96bc-2a4870b41d56"
      },
      "outputs": [
        {
          "output_type": "stream",
          "name": "stdout",
          "text": [
            "Total revenue generated: $39237.02\n"
          ]
        }
      ],
      "source": [
        "chipo['item_price'] = chipo['item_price'].str.replace('$', '').astype(float)\n",
        "total_revenue = (chipo['quantity'] * chipo['item_price']).sum()\n",
        "\n",
        "print(f\"Total revenue generated: ${total_revenue:.2f}\")"
      ]
    },
    {
      "cell_type": "markdown",
      "metadata": {
        "id": "NWXRgUCxZaKa"
      },
      "source": [
        "### What is the average revenue amount per order?"
      ]
    },
    {
      "cell_type": "code",
      "execution_count": 14,
      "metadata": {
        "id": "HF1EEx1gZaKa",
        "colab": {
          "base_uri": "https://localhost:8080/",
          "height": 356
        },
        "outputId": "f8d9f8c8-934f-41b1-947e-84b358c7af71"
      },
      "outputs": [
        {
          "output_type": "error",
          "ename": "AttributeError",
          "evalue": "Can only use .str accessor with string values!",
          "traceback": [
            "\u001b[0;31m---------------------------------------------------------------------------\u001b[0m",
            "\u001b[0;31mAttributeError\u001b[0m                            Traceback (most recent call last)",
            "\u001b[0;32m<ipython-input-14-278233a0536e>\u001b[0m in \u001b[0;36m<cell line: 0>\u001b[0;34m()\u001b[0m\n\u001b[0;32m----> 1\u001b[0;31m \u001b[0mchipo\u001b[0m\u001b[0;34m[\u001b[0m\u001b[0;34m'item_price'\u001b[0m\u001b[0;34m]\u001b[0m \u001b[0;34m=\u001b[0m \u001b[0mchipo\u001b[0m\u001b[0;34m[\u001b[0m\u001b[0;34m'item_price'\u001b[0m\u001b[0;34m]\u001b[0m\u001b[0;34m.\u001b[0m\u001b[0mstr\u001b[0m\u001b[0;34m.\u001b[0m\u001b[0mreplace\u001b[0m\u001b[0;34m(\u001b[0m\u001b[0;34m'$'\u001b[0m\u001b[0;34m,\u001b[0m \u001b[0;34m''\u001b[0m\u001b[0;34m)\u001b[0m\u001b[0;34m.\u001b[0m\u001b[0mastype\u001b[0m\u001b[0;34m(\u001b[0m\u001b[0mfloat\u001b[0m\u001b[0;34m)\u001b[0m\u001b[0;34m\u001b[0m\u001b[0;34m\u001b[0m\u001b[0m\n\u001b[0m\u001b[1;32m      2\u001b[0m \u001b[0mtotal_revenue\u001b[0m \u001b[0;34m=\u001b[0m \u001b[0;34m(\u001b[0m\u001b[0mchipo\u001b[0m\u001b[0;34m[\u001b[0m\u001b[0;34m'quantity'\u001b[0m\u001b[0;34m]\u001b[0m \u001b[0;34m*\u001b[0m \u001b[0mchipo\u001b[0m\u001b[0;34m[\u001b[0m\u001b[0;34m'item_price'\u001b[0m\u001b[0;34m]\u001b[0m\u001b[0;34m)\u001b[0m\u001b[0;34m.\u001b[0m\u001b[0msum\u001b[0m\u001b[0;34m(\u001b[0m\u001b[0;34m)\u001b[0m\u001b[0;34m\u001b[0m\u001b[0;34m\u001b[0m\u001b[0m\n\u001b[1;32m      3\u001b[0m \u001b[0mtotal_orders\u001b[0m \u001b[0;34m=\u001b[0m \u001b[0mchipo\u001b[0m\u001b[0;34m[\u001b[0m\u001b[0;34m'order_id'\u001b[0m\u001b[0;34m]\u001b[0m\u001b[0;34m.\u001b[0m\u001b[0mnunique\u001b[0m\u001b[0;34m(\u001b[0m\u001b[0;34m)\u001b[0m\u001b[0;34m\u001b[0m\u001b[0;34m\u001b[0m\u001b[0m\n\u001b[1;32m      4\u001b[0m \u001b[0maverage_revenue_per_order\u001b[0m \u001b[0;34m=\u001b[0m \u001b[0mtotal_revenue\u001b[0m \u001b[0;34m/\u001b[0m \u001b[0mtotal_orders\u001b[0m\u001b[0;34m\u001b[0m\u001b[0;34m\u001b[0m\u001b[0m\n\u001b[1;32m      5\u001b[0m \u001b[0;34m\u001b[0m\u001b[0m\n",
            "\u001b[0;32m/usr/local/lib/python3.11/dist-packages/pandas/core/generic.py\u001b[0m in \u001b[0;36m__getattr__\u001b[0;34m(self, name)\u001b[0m\n\u001b[1;32m   6297\u001b[0m         ):\n\u001b[1;32m   6298\u001b[0m             \u001b[0;32mreturn\u001b[0m \u001b[0mself\u001b[0m\u001b[0;34m[\u001b[0m\u001b[0mname\u001b[0m\u001b[0;34m]\u001b[0m\u001b[0;34m\u001b[0m\u001b[0;34m\u001b[0m\u001b[0m\n\u001b[0;32m-> 6299\u001b[0;31m         \u001b[0;32mreturn\u001b[0m \u001b[0mobject\u001b[0m\u001b[0;34m.\u001b[0m\u001b[0m__getattribute__\u001b[0m\u001b[0;34m(\u001b[0m\u001b[0mself\u001b[0m\u001b[0;34m,\u001b[0m \u001b[0mname\u001b[0m\u001b[0;34m)\u001b[0m\u001b[0;34m\u001b[0m\u001b[0;34m\u001b[0m\u001b[0m\n\u001b[0m\u001b[1;32m   6300\u001b[0m \u001b[0;34m\u001b[0m\u001b[0m\n\u001b[1;32m   6301\u001b[0m     \u001b[0;34m@\u001b[0m\u001b[0mfinal\u001b[0m\u001b[0;34m\u001b[0m\u001b[0;34m\u001b[0m\u001b[0m\n",
            "\u001b[0;32m/usr/local/lib/python3.11/dist-packages/pandas/core/accessor.py\u001b[0m in \u001b[0;36m__get__\u001b[0;34m(self, obj, cls)\u001b[0m\n\u001b[1;32m    222\u001b[0m             \u001b[0;31m# we're accessing the attribute of the class, i.e., Dataset.geo\u001b[0m\u001b[0;34m\u001b[0m\u001b[0;34m\u001b[0m\u001b[0m\n\u001b[1;32m    223\u001b[0m             \u001b[0;32mreturn\u001b[0m \u001b[0mself\u001b[0m\u001b[0;34m.\u001b[0m\u001b[0m_accessor\u001b[0m\u001b[0;34m\u001b[0m\u001b[0;34m\u001b[0m\u001b[0m\n\u001b[0;32m--> 224\u001b[0;31m         \u001b[0maccessor_obj\u001b[0m \u001b[0;34m=\u001b[0m \u001b[0mself\u001b[0m\u001b[0;34m.\u001b[0m\u001b[0m_accessor\u001b[0m\u001b[0;34m(\u001b[0m\u001b[0mobj\u001b[0m\u001b[0;34m)\u001b[0m\u001b[0;34m\u001b[0m\u001b[0;34m\u001b[0m\u001b[0m\n\u001b[0m\u001b[1;32m    225\u001b[0m         \u001b[0;31m# Replace the property with the accessor object. Inspired by:\u001b[0m\u001b[0;34m\u001b[0m\u001b[0;34m\u001b[0m\u001b[0m\n\u001b[1;32m    226\u001b[0m         \u001b[0;31m# https://www.pydanny.com/cached-property.html\u001b[0m\u001b[0;34m\u001b[0m\u001b[0;34m\u001b[0m\u001b[0m\n",
            "\u001b[0;32m/usr/local/lib/python3.11/dist-packages/pandas/core/strings/accessor.py\u001b[0m in \u001b[0;36m__init__\u001b[0;34m(self, data)\u001b[0m\n\u001b[1;32m    189\u001b[0m         \u001b[0;32mfrom\u001b[0m \u001b[0mpandas\u001b[0m\u001b[0;34m.\u001b[0m\u001b[0mcore\u001b[0m\u001b[0;34m.\u001b[0m\u001b[0marrays\u001b[0m\u001b[0;34m.\u001b[0m\u001b[0mstring_\u001b[0m \u001b[0;32mimport\u001b[0m \u001b[0mStringDtype\u001b[0m\u001b[0;34m\u001b[0m\u001b[0;34m\u001b[0m\u001b[0m\n\u001b[1;32m    190\u001b[0m \u001b[0;34m\u001b[0m\u001b[0m\n\u001b[0;32m--> 191\u001b[0;31m         \u001b[0mself\u001b[0m\u001b[0;34m.\u001b[0m\u001b[0m_inferred_dtype\u001b[0m \u001b[0;34m=\u001b[0m \u001b[0mself\u001b[0m\u001b[0;34m.\u001b[0m\u001b[0m_validate\u001b[0m\u001b[0;34m(\u001b[0m\u001b[0mdata\u001b[0m\u001b[0;34m)\u001b[0m\u001b[0;34m\u001b[0m\u001b[0;34m\u001b[0m\u001b[0m\n\u001b[0m\u001b[1;32m    192\u001b[0m         \u001b[0mself\u001b[0m\u001b[0;34m.\u001b[0m\u001b[0m_is_categorical\u001b[0m \u001b[0;34m=\u001b[0m \u001b[0misinstance\u001b[0m\u001b[0;34m(\u001b[0m\u001b[0mdata\u001b[0m\u001b[0;34m.\u001b[0m\u001b[0mdtype\u001b[0m\u001b[0;34m,\u001b[0m \u001b[0mCategoricalDtype\u001b[0m\u001b[0;34m)\u001b[0m\u001b[0;34m\u001b[0m\u001b[0;34m\u001b[0m\u001b[0m\n\u001b[1;32m    193\u001b[0m         \u001b[0mself\u001b[0m\u001b[0;34m.\u001b[0m\u001b[0m_is_string\u001b[0m \u001b[0;34m=\u001b[0m \u001b[0misinstance\u001b[0m\u001b[0;34m(\u001b[0m\u001b[0mdata\u001b[0m\u001b[0;34m.\u001b[0m\u001b[0mdtype\u001b[0m\u001b[0;34m,\u001b[0m \u001b[0mStringDtype\u001b[0m\u001b[0;34m)\u001b[0m\u001b[0;34m\u001b[0m\u001b[0;34m\u001b[0m\u001b[0m\n",
            "\u001b[0;32m/usr/local/lib/python3.11/dist-packages/pandas/core/strings/accessor.py\u001b[0m in \u001b[0;36m_validate\u001b[0;34m(data)\u001b[0m\n\u001b[1;32m    243\u001b[0m \u001b[0;34m\u001b[0m\u001b[0m\n\u001b[1;32m    244\u001b[0m         \u001b[0;32mif\u001b[0m \u001b[0minferred_dtype\u001b[0m \u001b[0;32mnot\u001b[0m \u001b[0;32min\u001b[0m \u001b[0mallowed_types\u001b[0m\u001b[0;34m:\u001b[0m\u001b[0;34m\u001b[0m\u001b[0;34m\u001b[0m\u001b[0m\n\u001b[0;32m--> 245\u001b[0;31m             \u001b[0;32mraise\u001b[0m \u001b[0mAttributeError\u001b[0m\u001b[0;34m(\u001b[0m\u001b[0;34m\"Can only use .str accessor with string values!\"\u001b[0m\u001b[0;34m)\u001b[0m\u001b[0;34m\u001b[0m\u001b[0;34m\u001b[0m\u001b[0m\n\u001b[0m\u001b[1;32m    246\u001b[0m         \u001b[0;32mreturn\u001b[0m \u001b[0minferred_dtype\u001b[0m\u001b[0;34m\u001b[0m\u001b[0;34m\u001b[0m\u001b[0m\n\u001b[1;32m    247\u001b[0m \u001b[0;34m\u001b[0m\u001b[0m\n",
            "\u001b[0;31mAttributeError\u001b[0m: Can only use .str accessor with string values!"
          ]
        }
      ],
      "source": [
        "chipo['item_price'] = chipo['item_price'].str.replace('$', '').astype(float)\n",
        "total_revenue = (chipo['quantity'] * chipo['item_price']).sum()\n",
        "total_orders = chipo['order_id'].nunique()\n",
        "average_revenue_per_order = total_revenue / total_orders\n",
        "\n",
        "print(f\"Average revenue per order: ${average_revenue_per_order:.2f}\")"
      ]
    },
    {
      "cell_type": "markdown",
      "metadata": {
        "id": "-8gqdPUBZaKZ"
      },
      "source": [
        "### How many orders were made in the period?"
      ]
    },
    {
      "cell_type": "code",
      "execution_count": 12,
      "metadata": {
        "id": "fw6hbh2PZaKZ",
        "colab": {
          "base_uri": "https://localhost:8080/"
        },
        "outputId": "41b745e1-d6b1-41cf-e7d8-9d31189f5ee9"
      },
      "outputs": [
        {
          "output_type": "stream",
          "name": "stdout",
          "text": [
            "Total number of orders made: 1834\n"
          ]
        }
      ],
      "source": [
        "total_orders = chipo['order_id'].nunique()\n",
        "\n",
        "print(f\"Total number of orders made: {total_orders}\")"
      ]
    },
    {
      "cell_type": "markdown",
      "metadata": {
        "id": "3DcqrpKdZaKZ"
      },
      "source": [
        "### How much revenue was generated selling the second most popular item in the menu?\n",
        "\n"
      ]
    },
    {
      "cell_type": "code",
      "execution_count": 13,
      "metadata": {
        "id": "MLvgGX46ZaKZ",
        "colab": {
          "base_uri": "https://localhost:8080/"
        },
        "outputId": "6b9edc82-3b0c-4608-f89f-62fadf822f63"
      },
      "outputs": [
        {
          "output_type": "stream",
          "name": "stdout",
          "text": [
            "Second most ordered item: Chicken Burrito\n",
            "Total quantity ordered: 591\n",
            "Total revenue generated: $6387.06\n"
          ]
        }
      ],
      "source": [
        "\n",
        "item_counts = chipo.groupby('item_name')['quantity'].sum().sort_values(ascending=False)\n",
        "\n",
        "\n",
        "second_most_ordered_item = item_counts.index[1]\n",
        "second_most_ordered_quantity = item_counts.iloc[1]\n",
        "\n",
        "\n",
        "second_item_sales = chipo[chipo['item_name'] == second_most_ordered_item]\n",
        "\n",
        "\n",
        "second_item_revenue = (second_item_sales['quantity'] * second_item_sales['item_price']).sum()\n",
        "\n",
        "print(f\"Second most ordered item: {second_most_ordered_item}\")\n",
        "print(f\"Total quantity ordered: {second_most_ordered_quantity}\")\n",
        "print(f\"Total revenue generated: ${second_item_revenue:.2f}\")"
      ]
    },
    {
      "cell_type": "code",
      "source": [],
      "metadata": {
        "id": "2j6bnxOvfhyq"
      },
      "execution_count": null,
      "outputs": []
    }
  ],
  "metadata": {
    "anaconda-cloud": {},
    "kernelspec": {
      "display_name": "Python [default]",
      "language": "python",
      "name": "python2"
    },
    "language_info": {
      "codemirror_mode": {
        "name": "ipython",
        "version": 2
      },
      "file_extension": ".py",
      "mimetype": "text/x-python",
      "name": "python",
      "nbconvert_exporter": "python",
      "pygments_lexer": "ipython2",
      "version": "2.7.12"
    },
    "colab": {
      "provenance": [],
      "include_colab_link": true
    }
  },
  "nbformat": 4,
  "nbformat_minor": 0
}